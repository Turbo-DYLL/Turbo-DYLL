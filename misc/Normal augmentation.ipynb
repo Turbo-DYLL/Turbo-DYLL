{
 "cells": [
  {
   "cell_type": "code",
   "execution_count": 10,
   "id": "4584a796",
   "metadata": {},
   "outputs": [],
   "source": [
    "import numpy as np\n",
    "# we use binomial (with p = 0.5) as a discrete approximation for normal distribution\n",
    "from scipy.stats import binom\n",
    "import matplotlib.pyplot as plt"
   ]
  },
  {
   "cell_type": "code",
   "execution_count": 28,
   "id": "c5d8d907",
   "metadata": {},
   "outputs": [],
   "source": [
    "# fake some data which centers around 0\n",
    "dataset1 = np.random.normal(scale = 0.1, size = 1000)\n",
    "dataset2 = np.random.uniform(low = -0.05, high = 0.05, size = 10000)\n",
    "dataset = np.append(dataset1, dataset2)"
   ]
  },
  {
   "cell_type": "code",
   "execution_count": 29,
   "id": "d0f6416d",
   "metadata": {
    "scrolled": true
   },
   "outputs": [
    {
     "data": {
      "text/plain": [
       "(array([2.000e+00, 6.000e+00, 5.000e+00, 1.700e+01, 1.800e+01, 3.700e+01,\n",
       "        6.500e+01, 6.200e+01, 5.550e+02, 3.131e+03, 3.136e+03, 3.007e+03,\n",
       "        7.260e+02, 8.400e+01, 6.100e+01, 3.900e+01, 2.500e+01, 1.500e+01,\n",
       "        5.000e+00, 4.000e+00]),\n",
       " array([-0.31085521, -0.28133732, -0.25181942, -0.22230152, -0.19278362,\n",
       "        -0.16326573, -0.13374783, -0.10422993, -0.07471204, -0.04519414,\n",
       "        -0.01567624,  0.01384166,  0.04335955,  0.07287745,  0.10239535,\n",
       "         0.13191324,  0.16143114,  0.19094904,  0.22046694,  0.24998483,\n",
       "         0.27950273]),\n",
       " <BarContainer object of 20 artists>)"
      ]
     },
     "execution_count": 29,
     "metadata": {},
     "output_type": "execute_result"
    },
    {
     "data": {
      "image/png": "[encoded data removed]",
      "text/plain": [
       "<Figure size 432x288 with 1 Axes>"
      ]
     },
     "metadata": {
      "needs_background": "light"
     },
     "output_type": "display_data"
    }
   ],
   "source": [
    "# a pretty centralized distribution, similar to our case\n",
    "plt.hist(dataset, bins=20)"
   ]
  },
  {
   "cell_type": "code",
   "execution_count": 83,
   "id": "1bd3625f",
   "metadata": {},
   "outputs": [],
   "source": [
    "class FakeLoader(object):\n",
    "    def calc_bin(self, rn):\n",
    "        mult = round(1 / self.bin_sz)\n",
    "        d = rn * mult // 1\n",
    "        return d * self.bin_sz, (d + 1) * self.bin_sz\n",
    "        \n",
    "    def __init__(self, sigma = 0.1, thres_prob = 0.7, bin_sz = 0.05):\n",
    "        self.sigma = sigma\n",
    "        self.thres_prob = thres_prob\n",
    "        self.bin_sz = bin_sz\n",
    "    def get_item(self, index):\n",
    "        a = np.random.rand()\n",
    "        if a > self.thres_prob:\n",
    "            return dataset[index]\n",
    "        else:\n",
    "            rn = np.random.normal(scale = self.sigma)\n",
    "            low, high = self.calc_bin(rn)\n",
    "            subset = dataset[(dataset >= low) & (dataset <= high)]\n",
    "            # degenerate case :) ignore this\n",
    "            if not len(subset):\n",
    "                return dataset[index]\n",
    "            else:\n",
    "                return np.random.choice(subset)\n",
    "            "
   ]
  },
  {
   "cell_type": "code",
   "execution_count": 84,
   "id": "4cd69069",
   "metadata": {},
   "outputs": [],
   "source": [
    "loader = FakeLoader(thres_prob=1)"
   ]
  },
  {
   "cell_type": "code",
   "execution_count": 91,
   "id": "e2eda7ec",
   "metadata": {},
   "outputs": [],
   "source": [
    "augmented_data = []\n",
    "\n",
    "for i in range(len(dataset)):\n",
    "    augmented_data.append(loader.get_item(i))"
   ]
  },
  {
   "cell_type": "code",
   "execution_count": 93,
   "id": "aed4b476",
   "metadata": {},
   "outputs": [
    {
     "data": {
      "text/plain": [
       "(array([  11.,   62.,   66.,  220.,  210.,  388.,  717.,  782., 1121.,\n",
       "        1240., 1298., 1233., 1053.,  900.,  623.,  447.,  339.,  155.,\n",
       "          60.,   75.]),\n",
       " array([-0.31085521, -0.28133732, -0.25181942, -0.22230152, -0.19278362,\n",
       "        -0.16326573, -0.13374783, -0.10422993, -0.07471204, -0.04519414,\n",
       "        -0.01567624,  0.01384166,  0.04335955,  0.07287745,  0.10239535,\n",
       "         0.13191324,  0.16143114,  0.19094904,  0.22046694,  0.24998483,\n",
       "         0.27950273]),\n",
       " <BarContainer object of 20 artists>)"
      ]
     },
     "execution_count": 93,
     "metadata": {},
     "output_type": "execute_result"
    },
    {
     "data": {
      "image/png": "[encoded data removed]",
      "text/plain": [
       "<Figure size 432x288 with 1 Axes>"
      ]
     },
     "metadata": {
      "needs_background": "light"
     },
     "output_type": "display_data"
    }
   ],
   "source": [
    "plt.hist(augmented_data, bins=20)"
   ]
  }
 ],
 "metadata": {
  "kernelspec": {
   "display_name": "Python 3 (ipykernel)",
   "language": "python",
   "name": "python3"
  },
  "language_info": {
   "codemirror_mode": {
    "name": "ipython",
    "version": 3
   },
   "file_extension": ".py",
   "mimetype": "text/x-python",
   "name": "python",
   "nbconvert_exporter": "python",
   "pygments_lexer": "ipython3",
   "version": "3.8.0"
  }
 },
 "nbformat": 4,
 "nbformat_minor": 5
}